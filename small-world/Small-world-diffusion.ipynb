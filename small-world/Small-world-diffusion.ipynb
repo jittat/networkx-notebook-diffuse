{
 "cells": [
  {
   "cell_type": "markdown",
   "metadata": {},
   "source": [
    "## สร้างกราฟด้วย small-world model (Watts and Strogatz)\n",
    "\n",
    "สร้างตามที่ระบุในเปเปอร์โดย [Kleinberg](http://www.cs.cornell.edu/home/kleinber/networks-book/networks-book-ch20.pdf) โหนดในกราฟจะเป็นจุดบนระนาบ 2 มิติ (แทนด้วย `w` x `h`) จะมีพารามิเตอร์สองตัวคือ ทุกโหนดจะติดกับโหนดในกริดที่ห่างไม่เกิน `r` และมีเส้นเชื่อมแบบสุ่มอีก `k` เส้นไปหาโหนดอื่น ๆ"
   ]
  },
  {
   "cell_type": "code",
   "execution_count": 1,
   "metadata": {
    "collapsed": true
   },
   "outputs": [],
   "source": [
    "w = 50\n",
    "h = 50\n",
    "r = 1\n",
    "k = 1"
   ]
  },
  {
   "cell_type": "code",
   "execution_count": 2,
   "metadata": {
    "collapsed": true
   },
   "outputs": [],
   "source": [
    "import networkx as nx"
   ]
  },
  {
   "cell_type": "code",
   "execution_count": 3,
   "metadata": {
    "collapsed": true
   },
   "outputs": [],
   "source": [
    "G = nx.Graph()"
   ]
  },
  {
   "cell_type": "markdown",
   "metadata": {},
   "source": [
    "สร้างตารางกริดขนาด `w` x `h` แต่ละโหนดเป็น tuple ขนาดสอง"
   ]
  },
  {
   "cell_type": "code",
   "execution_count": 4,
   "metadata": {
    "collapsed": true
   },
   "outputs": [],
   "source": [
    "for x in range(w):\n",
    "    for y in range(h):\n",
    "        G.add_node((x,y))"
   ]
  },
  {
   "cell_type": "markdown",
   "metadata": {},
   "source": [
    "### Local links\n",
    "ใส่ edge เชื่อมระหว่างโหนดที่อยู่ใกล้กัน"
   ]
  },
  {
   "cell_type": "code",
   "execution_count": 5,
   "metadata": {
    "collapsed": true
   },
   "outputs": [],
   "source": [
    "def dist(x1,y1,x2,y2):\n",
    "    return abs(x1 - x2) + abs(y1 - y2)"
   ]
  },
  {
   "cell_type": "code",
   "execution_count": 6,
   "metadata": {
    "collapsed": true
   },
   "outputs": [],
   "source": [
    "for x1 in range(w):\n",
    "    for y1 in range(h):\n",
    "        for xd in range(r+1):\n",
    "            for yd in range(r+1):\n",
    "                if (xd == 0) and (yd == 0):\n",
    "                    continue\n",
    "                x2 = x1 + xd\n",
    "                y2 = y1 + yd\n",
    "                if x2 >= w:\n",
    "                    continue\n",
    "                if y2 >= h:\n",
    "                    continue\n",
    "                if dist(x1,y1,x2,y2) > r:\n",
    "                    continue\n",
    "                G.add_edge((x1,y1),(x2,y2))"
   ]
  },
  {
   "cell_type": "markdown",
   "metadata": {},
   "source": [
    "โหนด `(0,0)` ก็จะติดกับโหนด `(1,0)` และ `(0,1)`"
   ]
  },
  {
   "cell_type": "code",
   "execution_count": 7,
   "metadata": {},
   "outputs": [
    {
     "data": {
      "text/plain": [
       "{(0, 1): {}, (1, 0): {}}"
      ]
     },
     "execution_count": 7,
     "metadata": {},
     "output_type": "execute_result"
    }
   ],
   "source": [
    "G[(0,0)]"
   ]
  },
  {
   "cell_type": "markdown",
   "metadata": {},
   "source": [
    "โหนด `(5,5)` ก็จะติดกับ 4 โหนด"
   ]
  },
  {
   "cell_type": "code",
   "execution_count": 8,
   "metadata": {},
   "outputs": [
    {
     "data": {
      "text/plain": [
       "{(4, 5): {}, (5, 4): {}, (5, 6): {}, (6, 5): {}}"
      ]
     },
     "execution_count": 8,
     "metadata": {},
     "output_type": "execute_result"
    }
   ],
   "source": [
    "G[(5,5)]"
   ]
  },
  {
   "cell_type": "markdown",
   "metadata": {},
   "source": [
    "### ใส่ long range links\n",
    "แต่ละโหนดจะมี `k` random links"
   ]
  },
  {
   "cell_type": "code",
   "execution_count": 9,
   "metadata": {
    "collapsed": true
   },
   "outputs": [],
   "source": [
    "from random import randint\n",
    "\n",
    "def random_node(x,y,w,h):\n",
    "    while True:\n",
    "        xx = randint(0, w-1)\n",
    "        yy = randint(0, h-1)\n",
    "        if xx != x or yy != y:\n",
    "            break\n",
    "    return (xx,yy)"
   ]
  },
  {
   "cell_type": "code",
   "execution_count": 10,
   "metadata": {},
   "outputs": [
    {
     "name": "stdout",
     "output_type": "stream",
     "text": [
      "(9, 6)\n"
     ]
    }
   ],
   "source": [
    "print(random_node(0,0,10,10))"
   ]
  },
  {
   "cell_type": "code",
   "execution_count": 11,
   "metadata": {
    "collapsed": true
   },
   "outputs": [],
   "source": [
    "for x1 in range(w):\n",
    "    for y1 in range(h):\n",
    "        for i in range(k):\n",
    "            G.add_edge((x1,y1), random_node(x1,y1,w,h))"
   ]
  },
  {
   "cell_type": "markdown",
   "metadata": {},
   "source": [
    "### วาดรูปมาดูเสียหน่อย"
   ]
  },
  {
   "cell_type": "code",
   "execution_count": 12,
   "metadata": {},
   "outputs": [],
   "source": [
    "pos = dict([((x,y),(x*50,y*50)) for x in range(w) for y in range(h)])"
   ]
  },
  {
   "cell_type": "code",
   "execution_count": 13,
   "metadata": {},
   "outputs": [],
   "source": [
    "import matplotlib.pyplot as plt\n",
    "plt.clf()"
   ]
  },
  {
   "cell_type": "code",
   "execution_count": 14,
   "metadata": {},
   "outputs": [
    {
     "name": "stderr",
     "output_type": "stream",
     "text": [
      "/home/jittat/prog/ENV/notebook2/local/lib/python2.7/site-packages/networkx/drawing/nx_pylab.py:126: MatplotlibDeprecationWarning: pyplot.hold is deprecated.\n",
      "    Future behavior will be consistent with the long-time default:\n",
      "    plot commands add elements without first clearing the\n",
      "    Axes and/or Figure.\n",
      "  b = plt.ishold()\n",
      "/home/jittat/prog/ENV/notebook2/local/lib/python2.7/site-packages/networkx/drawing/nx_pylab.py:138: MatplotlibDeprecationWarning: pyplot.hold is deprecated.\n",
      "    Future behavior will be consistent with the long-time default:\n",
      "    plot commands add elements without first clearing the\n",
      "    Axes and/or Figure.\n",
      "  plt.hold(b)\n",
      "/home/jittat/prog/ENV/notebook2/local/lib/python2.7/site-packages/matplotlib/__init__.py:917: UserWarning: axes.hold is deprecated. Please remove it from your matplotlibrc and/or style files.\n",
      "  warnings.warn(self.msg_depr_set % key)\n",
      "/home/jittat/prog/ENV/notebook2/local/lib/python2.7/site-packages/matplotlib/rcsetup.py:152: UserWarning: axes.hold is deprecated, will be removed in 3.0\n",
      "  warnings.warn(\"axes.hold is deprecated, will be removed in 3.0\")\n"
     ]
    }
   ],
   "source": [
    "node_sizes = [10 for n in G.nodes()]\n",
    "nx.draw(G,pos=pos,node_size=node_sizes,edge_color='gray')"
   ]
  },
  {
   "cell_type": "code",
   "execution_count": 15,
   "metadata": {
    "collapsed": true
   },
   "outputs": [],
   "source": [
    "plt.savefig(\"graph.png\")"
   ]
  },
  {
   "cell_type": "markdown",
   "metadata": {
    "collapsed": true
   },
   "source": [
    "### จัดการการติดเชื้อ\n",
    "จะเก็บใน `infected`"
   ]
  },
  {
   "cell_type": "code",
   "execution_count": 16,
   "metadata": {
    "collapsed": true
   },
   "outputs": [],
   "source": [
    "infected = dict([(u,False) for u in G.nodes()])"
   ]
  },
  {
   "cell_type": "code",
   "execution_count": 17,
   "metadata": {
    "collapsed": true
   },
   "outputs": [],
   "source": [
    "def plot_infected(filename):\n",
    "    node_colors = []\n",
    "    for u in G.nodes():\n",
    "        if infected[u]:\n",
    "            node_colors.append('r')\n",
    "        else:\n",
    "            node_colors.append('b')\n",
    "    plt.clf()\n",
    "    nx.draw(G, pos=pos, node_size=node_sizes, node_color=node_colors, edge_color='gray')\n",
    "    plt.savefig(filename)"
   ]
  },
  {
   "cell_type": "code",
   "execution_count": 18,
   "metadata": {
    "collapsed": true
   },
   "outputs": [],
   "source": [
    "infection_rate = 0.5"
   ]
  },
  {
   "cell_type": "code",
   "execution_count": 19,
   "metadata": {
    "collapsed": true
   },
   "outputs": [],
   "source": [
    "infected = dict([(u,False) for u in G.nodes()])"
   ]
  },
  {
   "cell_type": "code",
   "execution_count": 20,
   "metadata": {
    "scrolled": true
   },
   "outputs": [],
   "source": [
    "s = (25,25)\n",
    "infected[s] = True\n",
    "recently_infected = [s]\n",
    "plot_infected('inf0.png')"
   ]
  },
  {
   "cell_type": "code",
   "execution_count": 21,
   "metadata": {
    "collapsed": true
   },
   "outputs": [],
   "source": [
    "rounds = 10"
   ]
  },
  {
   "cell_type": "code",
   "execution_count": 22,
   "metadata": {},
   "outputs": [
    {
     "name": "stdout",
     "output_type": "stream",
     "text": [
      "Round 0: 3 newly infected nodes\n",
      "Round 1: 8 newly infected nodes\n",
      "Round 2: 20 newly infected nodes\n",
      "Round 3: 49 newly infected nodes\n",
      "Round 4: 111 newly infected nodes\n",
      "Round 5: 246 newly infected nodes\n",
      "Round 6: 501 newly infected nodes\n",
      "Round 7: 706 newly infected nodes\n",
      "Round 8: 542 newly infected nodes\n",
      "Round 9: 196 newly infected nodes\n"
     ]
    }
   ],
   "source": [
    "from random import random\n",
    "\n",
    "for i in range(rounds):\n",
    "    newly_infected = []\n",
    "    for u in recently_infected:\n",
    "        for v in G[u].keys():\n",
    "            if infected[v]:\n",
    "                continue\n",
    "            if random() < infection_rate:\n",
    "                infected[v] = True\n",
    "                newly_infected.append(v)\n",
    "    print('Round {0}: {1} newly infected nodes'.format(i,len(newly_infected)))\n",
    "    recently_infected = newly_infected\n",
    "    plot_infected('inf%d.png' % (i+1,))\n",
    "            "
   ]
  },
  {
   "cell_type": "code",
   "execution_count": null,
   "metadata": {
    "collapsed": true
   },
   "outputs": [],
   "source": []
  }
 ],
 "metadata": {
  "kernelspec": {
   "display_name": "Python 2",
   "language": "python",
   "name": "python2"
  },
  "language_info": {
   "codemirror_mode": {
    "name": "ipython",
    "version": 2
   },
   "file_extension": ".py",
   "mimetype": "text/x-python",
   "name": "python",
   "nbconvert_exporter": "python",
   "pygments_lexer": "ipython2",
   "version": "2.7.13"
  }
 },
 "nbformat": 4,
 "nbformat_minor": 2
}
